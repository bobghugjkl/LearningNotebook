{
 "cells": [
  {
   "cell_type": "markdown",
   "id": "5988f74f",
   "metadata": {},
   "source": [
    "# SVN\n",
    "开放源代码的版本控制系统，达到多个人开发，公用资源的目的\n",
    "## 生命周期\n",
    "* 创建版本库Creat\n",
    "* 检出Checkout\n",
    "* 更新Update\n",
    "* 执行变更Commit\n",
    "* 复查变化Status\n",
    "* 修复错误Revert\n",
    "* 解决冲突Merge,Resolve\n",
    "* 提交更改Commit\n",
    "## 配置\n",
    "* 设置IP和端口\n",
    "## 使用\n",
    "* 新建版本库\n",
    "* 嵌入项目到SVN（trunk）\n",
    "* 检索项目\n",
    "* 提交代码\n",
    "* 更新代码\n",
    "* 版本冲突问题\n",
    "### 冲突\n",
    "会自动弹出来，选择那个文件改就可以\n",
    "## 导入\n",
    "看文档吧，这个看完后图个眼熟就行。和git差不多，得多看看"
   ]
  }
 ],
 "metadata": {
  "kernelspec": {
   "display_name": "Java",
   "language": "java",
   "name": "java"
  },
  "language_info": {
   "codemirror_mode": "java",
   "file_extension": ".jshell",
   "mimetype": "text/x-java-source",
   "name": "Java",
   "pygments_lexer": "java",
   "version": "11.0.16.1+1-LTS"
  }
 },
 "nbformat": 4,
 "nbformat_minor": 5
}
