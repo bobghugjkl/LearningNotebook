{
 "cells": [
  {
   "cell_type": "markdown",
   "id": "4434cd6e",
   "metadata": {},
   "source": [
    "# 创建多个maven项目\n",
    "* 先建一个父类的maven空项目\n",
    "* 里面来两个maven-quickstart（maven_dao,maven_service）和一个maven-webapp(maven_controller)\n",
    "* 调用的时候把依赖搞好\n",
    "* 先全部build一下子项目再build一下父项目（将maven进入编译后全写上intall）\n",
    "# 打包\n",
    "* 建立对应文件结构（本地环境，测试环境，目录，文件结构，资源目录，测试目录，正式环境，配置文件（db.properties数据库配置,bean.xml...）等）\n",
    "* 添加Profile配置，```<env>```与包名保持一致\n",
    "* 设置资源文件配置\n",
    "* 打开配置窗口，输入打包命令即可（package等）"
   ]
  },
  {
   "cell_type": "code",
   "execution_count": null,
   "id": "f31e41ac",
   "metadata": {},
   "outputs": [],
   "source": []
  }
 ],
 "metadata": {
  "kernelspec": {
   "display_name": "Java",
   "language": "java",
   "name": "java"
  },
  "language_info": {
   "codemirror_mode": "java",
   "file_extension": ".jshell",
   "mimetype": "text/x-java-source",
   "name": "Java",
   "pygments_lexer": "java",
   "version": "11.0.16.1+1-LTS"
  }
 },
 "nbformat": 4,
 "nbformat_minor": 5
}
